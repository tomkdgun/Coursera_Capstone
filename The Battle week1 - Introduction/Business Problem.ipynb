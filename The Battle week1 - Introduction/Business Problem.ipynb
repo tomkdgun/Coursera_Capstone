{
    "nbformat_minor": 1, 
    "cells": [
        {
            "source": "<h1>Capstone Project - The Battle of Neighborhoods</h1>", 
            "cell_type": "markdown", 
            "metadata": {
                "collapsed": true
            }
        }, 
        {
            "source": "<h2>1. Introduction</h2>", 
            "cell_type": "markdown", 
            "metadata": {}
        }, 
        {
            "source": "<h3>1.1 Background</h3>\n<p>In Module 3, we explored New York City and the city of Toronto and segmented and clustered their neighborhoods. Both cities are very diverse and are the financial capitals of their respective countries. One interesting idea would be to compare the neighborhoods of the two cities and determine how similar or dissimilar they are.</p>\n\n<h3>1.2 Problem</h3>\n<p>Data required to determine similarity or dissimilarity between neighborhood might include official division of the city, data about arangement of venues inside the neighborhoods, dominant venues, e.g. Hotels, Banks, and of course the location data for neighborhoods and venues. All of these for both cities, New York and Toronto.\nBase on that I could try to segment and cluster both city neighborhoods.\nThere is no certainty, that these data will be sufficient.\n</p>\n\n<h3>1.3 Interest</h3>\n<p>Similarities or dissimilarities between cities and they neighborhoods could be very useful for companies. Lets imagine that company ABC has headquarter or a branch in New York, in neighborhood BCD, and is satisfied with the location and surroundings. They are looking for location, to open a branch in Toronto.<br/>\n    <ul>\n        <li>Is it possible to determine possible neighborhoods similar to one in New York ?\n        <li>Are there any patterns how neighborhoods are organized inside a city ?\n        <li>How different of similar the cities are ?\n    </ul>\n</p>", 
            "cell_type": "markdown", 
            "metadata": {}
        }, 
        {
            "execution_count": null, 
            "cell_type": "code", 
            "metadata": {}, 
            "outputs": [], 
            "source": ""
        }
    ], 
    "metadata": {
        "kernelspec": {
            "display_name": "Python 3.5", 
            "name": "python3", 
            "language": "python"
        }, 
        "language_info": {
            "mimetype": "text/x-python", 
            "nbconvert_exporter": "python", 
            "version": "3.5.5", 
            "name": "python", 
            "file_extension": ".py", 
            "pygments_lexer": "ipython3", 
            "codemirror_mode": {
                "version": 3, 
                "name": "ipython"
            }
        }
    }, 
    "nbformat": 4
}