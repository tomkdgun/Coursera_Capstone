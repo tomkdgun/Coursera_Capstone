{
    "nbformat_minor": 1, 
    "cells": [
        {
            "source": "<h1>Capstone Project - The Battle of Neighborhoods</h1>", 
            "cell_type": "markdown", 
            "metadata": {
                "collapsed": true
            }
        }, 
        {
            "source": "<h2>2. Data acquisition and cleaning</h2>", 
            "cell_type": "markdown", 
            "metadata": {}
        }, 
        {
            "source": "<h3>2.1 Data sources</h3>\n<p>Data sources for this project will be mostly same as I've used during Module 3. of the course.</p>\n<p><b>New York</b> has a total of 5 boroughs and 306 neighborhoods. In order to segement the neighborhoods and explore them, we will essentially need a dataset that contains the 5 boroughs and the neighborhoods that exist in each borough, as well as the the latitude and logitude coordinates of each neighborhood.\nI will use dataset provided in the course: <a target=\"_blank\" rel=\"noreferrer\" href=\"https://geo.nyu.edu/catalog/nyu_2451_34572\">https://geo.nyu.edu/catalog/nyu_2451_34572</a>. Data file: <a target=\"_blank\" rel=\"noreferrer\" href=\"https://cocl.us/new_york_dataset\">https://cocl.us/new_york_dataset</a>\n</p>\n<p>For <b>Toronto</b> I will scrape the following Wikipedia page, <a target=\"_blank\" rel=\"noreferrer\" href=\"https://en.wikipedia.org/wiki/List_of_postal_codes_of_Canada:_M\">List_of_postal_codes_of_Canada:_</a> to gather data about boroughs and neighborhoods. Wiki page doesn't contain coridates for neighborhoods. I could use geocoder library to gather these data, but becase of the limitations, probably I will use location data from course <a target=\"_blank\" rel=\"noreferrer\" href=\"https://cocl.us/Geospatial_data\">Geospatial data for Toronto neighborhoods</a></p>\n<p>For the geograpical coordinate of the cities I can use geocoder library.</p>\n<p>To explore the neighborhoods and segment them, I will be utilizing the Foursquare API (https://foursquare.com). For each neighborhood I will be gathering data about venues. Data are in JSON format.</p>\n\n", 
            "cell_type": "markdown", 
            "metadata": {}
        }, 
        {
            "source": "<h3>2.2 Data cleaning</h3>\n<p>For New York neighborhoods data are in JSON format. I need to transform them into table with required data.</p>\n<p>I need to extract:</p>\n<ul>\n    <li><b>Borough</b> - name of the city borough, where neighborhood belongs, see properties.borough, e.g. 'Queens'\n    <li><b>Neighborhood</b> - name of the neighborhood, see properties.name, e.g. 'Lefrak City'\n    <li><b>Latitude</b> - latitude of the neighborhood, see geometry.coordinates second array element, e.g. '40.736074570830795'\n    <li><b>Longitude</b> - longitude of the neighborhood, see geometry.coordinates first array element, e.g. '-73.8625247141374'\n</ul>\n<p>Example for 'Lefrak City'</p>\n<pre>\n    {'type': 'Feature',\n          'id': 'nyu_2451_34572.190',\n          'geometry': {'type': 'Point',\n           'coordinates': [-73.8625247141374, 40.736074570830795]},\n          'geometry_name': 'geom',\n          'properties': {'name': 'Lefrak City',\n           'stacked': 2,\n           'annoline1': 'Lefrak',\n           'annoline2': 'City',\n           'annoline3': None,\n           'annoangle': 0.0,\n           'borough': 'Queens',\n           'bbox': [-73.8625247141374,\n            40.736074570830795,\n            -73.8625247141374,\n            40.736074570830795]}\n    }\n</pre>\n\n<p>Foursquare API responses about venues are in JSON format. I need to transform them into table with required data. Request to Foursquare API will be performed for each neighborhood, based on coordinates. This way I can join neighborhood data with venues data.</p>\n<p>I will extract:</p>\n<ul>\n    <li><b>Venue id</b> - id of the venue, see venue.id, e.g. '4baf59e8f964a520a6f93be3', it could be useful to remove duplicates, if range in query is to big\n    <li><b>Venue distance</b> - how far the venue is from point used in request (center of neighborhood), see venue.location.distance, e.g. 376, it could be useful to remove duplicates, if range in query is to big\n    <li><b>Venue Name</b> - name of the venue, see venue.name, e.g. 'Queens'\n    <li><b>Venue Category</b> - name of the venue category, the <b>most</b> important information, will be used for clustering, see venue.categories.name, e.g. 'Yoga Studio'\n    <li><b>Venue Latitude</b> - latitude of the venue, see venue.location.lat, e.g. '40.876843690797934'\n    <li><b>Venue Longitude</b> - longitude of the venue, see venue.location.lat, e.g. '-73.90620384419528'\n</ul>\n<p>Probably I can later remove most of data gathered about venues, since clustering will be based on venues categories and how common there are for the selected neighborhood.</p>\n<p>Example data about venue from explore API call</p>\n<pre>\n            {'reasons': {'count': 0,\n              'items': [{'summary': 'This spot is popular',\n                'type': 'general',\n                'reasonName': 'globalInteractionReason'}]},\n             'venue': {'id': '4baf59e8f964a520a6f93be3',\n              'name': 'Bikram Yoga',\n              'location': {'address': '5500 Broadway',\n               'crossStreet': '230th Street',\n               'lat': 40.876843690797934,\n               'lng': -73.90620384419528,\n               'labeledLatLngs': [{'label': 'display',\n                 'lat': 40.876843690797934,\n                 'lng': -73.90620384419528}],\n               'distance': 376,\n               'postalCode': '10463',\n               'cc': 'US',\n               'city': 'Bronx',\n               'state': 'NY',\n               'country': 'United States',\n               'formattedAddress': ['5500 Broadway (230th Street)',\n                'Bronx, NY 10463',\n                'United States']},\n              'categories': [{'id': '4bf58dd8d48988d102941735',\n                'name': 'Yoga Studio',\n                'pluralName': 'Yoga Studios',\n                'shortName': 'Yoga Studio',\n                'icon': {'prefix': 'https://ss3.4sqi.net/img/categories_v2/shops/gym_yogastudio_',\n                 'suffix': '.png'},\n                'primary': True}],\n              'photos': {'count': 0, 'groups': []}},\n             'referralId': 'e-0-4baf59e8f964a520a6f93be3-1'}\n</pre>\n<p>For Toronto neighborhoods data are placed on table on wiki. I need to scrap the HTML page and transform them into table with data below.</p>\n<p>I need to extract:</p>\n<ul>\n    <li><b>Postcode</b> - post code for neighborhood, e.g. 'M5H'\n    <li><b>Borough</b> - name of the city borough, where neighborhood belongs, e.g. 'Downtown Toronto'\n    <li><b>Neighborhood</b> - name of the neighborhood, e.g. 'Adelide'\n</ul>\n<p>Then I will group gathered data by Postcode, I will remove not assigned post codes and merge such data with cordiates data, by using post code. Rename of column is required.</p>\n<p>Here is description of coordinates data for each post code of Toronto. Data are in CSV format so are easy to use.</p>\n<ul>\n    <li><b>Postal Code</b> - post code for neighborhood, e.g. 'M1B'\n    <li><b>Latitude</b> - latitude of the neighborhood, e.g. '43.8066863'\n    <li><b>Longitude</b> - longitude of the neighborhood, e.g. '-79.1943534'\n</ul>\n<p>After join will take place, I could drop 'Postcode' column.<p>\n<p>To be able to join data about neighborhoods for both cities, and have a way to distinguish them, I need to add new column <b>City</b> with respectively 'Toronto' and 'New York' values.</p>\n<p>After join I will have dataset with following columns</p>\n<ul>\n    <li><b>City</b>\n    <li><b>Borough</b>\n    <li><b>Neighborhood</b>\n    <li><b>Latitude</b>\n    <li><b>Longitude</b>\n</ul>\n", 
            "cell_type": "markdown", 
            "metadata": {}
        }, 
        {
            "source": "<h3>2.3 Feature selection</h3>\n<p>For clustering, I will try to use popular venues categories for each neighborhoods, see 'Venue Category' above, but I'm not sure if this will be sufficent.</p>\n<p>I can group results base on Venue Category, calculate how common they are in particular neighborhood surroundings, and perform clustering base on these data.</p>\n<p>Using segmentation and clustering, I hope I can determine the similarity or dissimilarirty of both cities and they neighborhoods, and properly name clustered areas located inside the city.</p>\n\n\n", 
            "cell_type": "markdown", 
            "metadata": {}
        }, 
        {
            "execution_count": null, 
            "cell_type": "code", 
            "metadata": {}, 
            "outputs": [], 
            "source": ""
        }
    ], 
    "metadata": {
        "kernelspec": {
            "display_name": "Python 3.5", 
            "name": "python3", 
            "language": "python"
        }, 
        "language_info": {
            "mimetype": "text/x-python", 
            "nbconvert_exporter": "python", 
            "version": "3.5.5", 
            "name": "python", 
            "file_extension": ".py", 
            "pygments_lexer": "ipython3", 
            "codemirror_mode": {
                "version": 3, 
                "name": "ipython"
            }
        }
    }, 
    "nbformat": 4
}