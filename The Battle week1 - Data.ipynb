{
    "nbformat_minor": 1, 
    "cells": [
        {
            "source": "<h1>Capstone Project - The Battle of Neighborhoods</h1>", 
            "cell_type": "markdown", 
            "metadata": {
                "collapsed": true
            }
        }, 
        {
            "source": "<h2>2. Data acquisition and cleaning</h2>", 
            "cell_type": "markdown", 
            "metadata": {}
        }, 
        {
            "source": "<h3>2.1 Data sources</h3>\n<p>Data sources for this project will be mostly same as I've used during Module 3. of the course.</p>\n<p><b>New York</b> has a total of 5 boroughs and 306 neighborhoods. In order to segement the neighborhoods and explore them, we will essentially need a dataset that contains the 5 boroughs and the neighborhoods that exist in each borough, as well as the the latitude and logitude coordinates of each neighborhood.\nI will use dataset provided in the course: <a target=\"_blank\" rel=\"noreferrer\" href=\"https://geo.nyu.edu/catalog/nyu_2451_34572\">https://geo.nyu.edu/catalog/nyu_2451_34572</a>. Data file: <a target=\"_blank\" rel=\"noreferrer\" href=\"https://cocl.us/new_york_dataset\">https://cocl.us/new_york_dataset</a>\n</p>\n<p>For <b>Toronto</b> I will scrape the following Wikipedia page, <a target=\"_blank\" rel=\"noreferrer\" href=\"https://en.wikipedia.org/wiki/List_of_postal_codes_of_Canada:_M\">List_of_postal_codes_of_Canada:_</a> to gather data about boroughs and neighborhoods. Wiki page doesn't contain coridates for neighborhoods. I could use geocoder library to gather these data, but becase of the limitations, probably I will use location data from course <a target=\"_blank\" rel=\"noreferrer\" href=\"https://cocl.us/Geospatial_data\">Geospatial data for Toronto neighborhoods</a></p>\n<p>For the geograpical coordinate of the cities I can use geocoder library.</p>\n<p>To explore the neighborhoods and segment them, I will be utilizing the Foursquare API (https://foursquare.com). For each neighborhood I will be gathering data about venues. Data are in JSON format.</p>\n\n", 
            "cell_type": "markdown", 
            "metadata": {}
        }, 
        {
            "source": "<h3>2.2 Data cleaning</h3>\n<p>For New York neighborhoods data are in JSON format. I need to transform them into table with required data. Example for 'Lefrak City'</p>\n<pre>\n    {'type': 'Feature',\n          'id': 'nyu_2451_34572.190',\n          'geometry': {'type': 'Point',\n           'coordinates': [-73.8625247141374, 40.736074570830795]},\n          'geometry_name': 'geom',\n          'properties': {'name': 'Lefrak City',\n           'stacked': 2,\n           'annoline1': 'Lefrak',\n           'annoline2': 'City',\n           'annoline3': None,\n           'annoangle': 0.0,\n           'borough': 'Queens',\n           'bbox': [-73.8625247141374,\n            40.736074570830795,\n            -73.8625247141374,\n            40.736074570830795]}\n    }\n</pre>\n<p>It seems <b>coordinates, name, borough</b> needs to be extracted from JSON.</p>\n\n<p>Example data about venue from explore API call</p>\n<pre>\n            {'reasons': {'count': 0,\n              'items': [{'summary': 'This spot is popular',\n                'type': 'general',\n                'reasonName': 'globalInteractionReason'}]},\n             'venue': {'id': '4baf59e8f964a520a6f93be3',\n              'name': 'Bikram Yoga',\n              'location': {'address': '5500 Broadway',\n               'crossStreet': '230th Street',\n               'lat': 40.876843690797934,\n               'lng': -73.90620384419528,\n               'labeledLatLngs': [{'label': 'display',\n                 'lat': 40.876843690797934,\n                 'lng': -73.90620384419528}],\n               'distance': 376,\n               'postalCode': '10463',\n               'cc': 'US',\n               'city': 'Bronx',\n               'state': 'NY',\n               'country': 'United States',\n               'formattedAddress': ['5500 Broadway (230th Street)',\n                'Bronx, NY 10463',\n                'United States']},\n              'categories': [{'id': '4bf58dd8d48988d102941735',\n                'name': 'Yoga Studio',\n                'pluralName': 'Yoga Studios',\n                'shortName': 'Yoga Studio',\n                'icon': {'prefix': 'https://ss3.4sqi.net/img/categories_v2/shops/gym_yogastudio_',\n                 'suffix': '.png'},\n                'primary': True}],\n              'photos': {'count': 0, 'groups': []}},\n             'referralId': 'e-0-4baf59e8f964a520a6f93be3-1'}\n</pre>\n<p>I can extract coordinates <b>lat, lng</b>, name (<b>venue.name</b>) and category name (<b>categories.name</b>), etc. from JSON.</p>", 
            "cell_type": "markdown", 
            "metadata": {}
        }, 
        {
            "source": "<h3>2.3 Feature selection</h3>\n<p>For clustering, I will try to use popular venues categories for each neighborhoods, but I'm not sure if this will be sufficent.</p>\n<p>Using segmentation and clustering, I hope I can determine the similarity or dissimilarirty of both cities and they neighborhoods, and properly name clustered areas located inside the city.</p>\n\n\n", 
            "cell_type": "markdown", 
            "metadata": {}
        }, 
        {
            "execution_count": null, 
            "cell_type": "code", 
            "metadata": {}, 
            "outputs": [], 
            "source": ""
        }
    ], 
    "metadata": {
        "kernelspec": {
            "display_name": "Python 3.5", 
            "name": "python3", 
            "language": "python"
        }, 
        "language_info": {
            "mimetype": "text/x-python", 
            "nbconvert_exporter": "python", 
            "version": "3.5.5", 
            "name": "python", 
            "file_extension": ".py", 
            "pygments_lexer": "ipython3", 
            "codemirror_mode": {
                "version": 3, 
                "name": "ipython"
            }
        }
    }, 
    "nbformat": 4
}