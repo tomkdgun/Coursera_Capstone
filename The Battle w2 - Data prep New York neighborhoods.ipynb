{
    "nbformat_minor": 2, 
    "cells": [
        {
            "execution_count": 1, 
            "cell_type": "code", 
            "metadata": {}, 
            "outputs": [], 
            "source": "# The code was removed by Watson Studio for sharing."
        }, 
        {
            "source": "<h1 style=\"text-align: center\">Battle: Neighborhoods in New York - data preparation</h1>", 
            "cell_type": "markdown", 
            "metadata": {}
        }, 
        {
            "source": "<h2>Introduction</h2>\n<p>I will use this notebook to prepare data about New York Neighborhoods, and save them as CSV. Prepared data will be used as starting point in another notebook</p>", 
            "cell_type": "markdown", 
            "metadata": {}
        }, 
        {
            "source": "Before I get the data, let's download all the dependencies that we will need.", 
            "cell_type": "markdown", 
            "metadata": {}
        }, 
        {
            "execution_count": 2, 
            "cell_type": "code", 
            "metadata": {}, 
            "outputs": [
                {
                    "output_type": "stream", 
                    "name": "stdout", 
                    "text": "Libraries imported.\n"
                }
            ], 
            "source": "import numpy as np # library to handle data in a vectorized manner\n\nimport pandas as pd # library for data analsysis\npd.set_option('display.max_columns', None)\npd.set_option('display.max_rows', None)\n\nimport json # library to handle JSON files\n\n#!conda install -c conda-forge geopy --yes # uncomment this line if you haven't completed the Foursquare API lab\nfrom geopy.geocoders import Nominatim # convert an address into latitude and longitude values\n\nimport requests # library to handle requests\nfrom pandas.io.json import json_normalize # tranform JSON file into a pandas dataframe\n\nprint('Libraries imported.')"
        }, 
        {
            "source": "<a id='item1'></a>", 
            "cell_type": "markdown", 
            "metadata": {}
        }, 
        {
            "source": "<h3>1.1 Download Dataset</h3>", 
            "cell_type": "markdown", 
            "metadata": {}
        }, 
        {
            "source": "New York has a total of 5 boroughs and 306 neighborhoods. In order to segement the neighborhoods and explore them, we will essentially need a dataset that contains the 5 boroughs and the neighborhoods that exist in each borough as well as the the latitude and logitude coordinates of each neighborhood. \n\nThis dataset exists for free on the web. Here is the link to the dataset: https://geo.nyu.edu/catalog/nyu_2451_34572 (https://cocl.us/new_york_dataset).", 
            "cell_type": "markdown", 
            "metadata": {}
        }, 
        {
            "source": "Run a `wget` command and access the data.", 
            "cell_type": "markdown", 
            "metadata": {}
        }, 
        {
            "execution_count": 3, 
            "cell_type": "code", 
            "metadata": {
                "scrolled": true
            }, 
            "outputs": [
                {
                    "output_type": "stream", 
                    "name": "stdout", 
                    "text": "Data downloaded!\n"
                }
            ], 
            "source": "!wget -q -O 'newyork_data.json' https://cocl.us/new_york_dataset\nprint('Data downloaded!')"
        }, 
        {
            "source": "Let's load the data using json.load", 
            "cell_type": "markdown", 
            "metadata": {}
        }, 
        {
            "execution_count": 4, 
            "cell_type": "code", 
            "metadata": {}, 
            "outputs": [], 
            "source": "with open('newyork_data.json') as json_data:\n    newyork_data = json.load(json_data)"
        }, 
        {
            "source": "Let's take a quick look at the data, for one neighborhood. The *features* key contains list of neighborhoods. Then lets filter only first one.", 
            "cell_type": "markdown", 
            "metadata": {}
        }, 
        {
            "execution_count": 10, 
            "cell_type": "code", 
            "metadata": {}, 
            "outputs": [
                {
                    "execution_count": 10, 
                    "metadata": {}, 
                    "data": {
                        "text/plain": "[{'geometry': {'coordinates': [-73.84720052054902, 40.89470517661],\n   'type': 'Point'},\n  'geometry_name': 'geom',\n  'id': 'nyu_2451_34572.1',\n  'properties': {'annoangle': 0.0,\n   'annoline1': 'Wakefield',\n   'annoline2': None,\n   'annoline3': None,\n   'bbox': [-73.84720052054902,\n    40.89470517661,\n    -73.84720052054902,\n    40.89470517661],\n   'borough': 'Bronx',\n   'name': 'Wakefield',\n   'stacked': 1},\n  'type': 'Feature'}]"
                    }, 
                    "output_type": "execute_result"
                }
            ], 
            "source": "newyork_data['features'][0:1]"
        }, 
        {
            "execution_count": 11, 
            "cell_type": "code", 
            "metadata": {}, 
            "outputs": [], 
            "source": "neighborhoods_data = newyork_data['features']"
        }, 
        {
            "source": "<h3>1.2 Tranform the data into a pandas dataframe</h3>", 
            "cell_type": "markdown", 
            "metadata": {}
        }, 
        {
            "source": "The next task is essentially transforming this data of nested Python dictionaries into a *pandas* dataframe. So let's start by creating an empty dataframe.", 
            "cell_type": "markdown", 
            "metadata": {}
        }, 
        {
            "execution_count": 12, 
            "cell_type": "code", 
            "metadata": {}, 
            "outputs": [], 
            "source": "# define the dataframe columns\ncolumn_names = ['Borough', 'Neighborhood', 'Latitude', 'Longitude'] \n\n# instantiate the dataframe\nneighborhoods = pd.DataFrame(columns=column_names)"
        }, 
        {
            "source": "Loop through the data and fill the dataframe one row at a time.", 
            "cell_type": "markdown", 
            "metadata": {}
        }, 
        {
            "execution_count": 13, 
            "cell_type": "code", 
            "metadata": {}, 
            "outputs": [], 
            "source": "for data in neighborhoods_data:\n    borough = neighborhood_name = data['properties']['borough'] \n    neighborhood_name = data['properties']['name']\n        \n    neighborhood_latlon = data['geometry']['coordinates']\n    neighborhood_lat = neighborhood_latlon[1]\n    neighborhood_lon = neighborhood_latlon[0]\n    \n    neighborhoods = neighborhoods.append({'Borough': borough,\n                                          'Neighborhood': neighborhood_name,\n                                          'Latitude': neighborhood_lat,\n                                          'Longitude': neighborhood_lon}, ignore_index=True)"
        }, 
        {
            "source": "Examine the dataframe which was crated.", 
            "cell_type": "markdown", 
            "metadata": {}
        }, 
        {
            "execution_count": 14, 
            "cell_type": "code", 
            "metadata": {
                "scrolled": true
            }, 
            "outputs": [
                {
                    "execution_count": 14, 
                    "metadata": {}, 
                    "data": {
                        "text/html": "<div>\n<style scoped>\n    .dataframe tbody tr th:only-of-type {\n        vertical-align: middle;\n    }\n\n    .dataframe tbody tr th {\n        vertical-align: top;\n    }\n\n    .dataframe thead th {\n        text-align: right;\n    }\n</style>\n<table border=\"1\" class=\"dataframe\">\n  <thead>\n    <tr style=\"text-align: right;\">\n      <th></th>\n      <th>Borough</th>\n      <th>Neighborhood</th>\n      <th>Latitude</th>\n      <th>Longitude</th>\n    </tr>\n  </thead>\n  <tbody>\n    <tr>\n      <th>0</th>\n      <td>Bronx</td>\n      <td>Wakefield</td>\n      <td>40.894705</td>\n      <td>-73.847201</td>\n    </tr>\n    <tr>\n      <th>1</th>\n      <td>Bronx</td>\n      <td>Co-op City</td>\n      <td>40.874294</td>\n      <td>-73.829939</td>\n    </tr>\n    <tr>\n      <th>2</th>\n      <td>Bronx</td>\n      <td>Eastchester</td>\n      <td>40.887556</td>\n      <td>-73.827806</td>\n    </tr>\n    <tr>\n      <th>3</th>\n      <td>Bronx</td>\n      <td>Fieldston</td>\n      <td>40.895437</td>\n      <td>-73.905643</td>\n    </tr>\n    <tr>\n      <th>4</th>\n      <td>Bronx</td>\n      <td>Riverdale</td>\n      <td>40.890834</td>\n      <td>-73.912585</td>\n    </tr>\n  </tbody>\n</table>\n</div>", 
                        "text/plain": "  Borough Neighborhood   Latitude  Longitude\n0   Bronx    Wakefield  40.894705 -73.847201\n1   Bronx   Co-op City  40.874294 -73.829939\n2   Bronx  Eastchester  40.887556 -73.827806\n3   Bronx    Fieldston  40.895437 -73.905643\n4   Bronx    Riverdale  40.890834 -73.912585"
                    }, 
                    "output_type": "execute_result"
                }
            ], 
            "source": "neighborhoods.head()"
        }, 
        {
            "source": "Make sure that the dataset has all 5 boroughs and 306 neighborhoods.", 
            "cell_type": "markdown", 
            "metadata": {}
        }, 
        {
            "execution_count": 15, 
            "cell_type": "code", 
            "metadata": {}, 
            "outputs": [
                {
                    "output_type": "stream", 
                    "name": "stdout", 
                    "text": "The dataframe has 5 boroughs and 306 neighborhoods.\n"
                }
            ], 
            "source": "print('The dataframe has {} boroughs and {} neighborhoods.'.format(\n        len(neighborhoods['Borough'].unique()),\n        neighborhoods.shape[0]\n    )\n)"
        }, 
        {
            "source": "<h3>1.3 Save New York neighborhoods as CSV</h3>", 
            "cell_type": "markdown", 
            "metadata": {}
        }, 
        {
            "execution_count": 16, 
            "cell_type": "code", 
            "metadata": {}, 
            "outputs": [
                {
                    "execution_count": 16, 
                    "metadata": {}, 
                    "data": {
                        "text/plain": "{'asset_id': '60bc572d-d440-496a-b620-d17ac8b92e8f',\n 'bucket_name': 'courseracapstone-donotdelete-pr-2afewjmpcmomni',\n 'file_name': 'neighborhood_new_york_geospatial_data.csv',\n 'message': 'File saved to project storage.'}"
                    }, 
                    "output_type": "execute_result"
                }
            ], 
            "source": "# save to project\nproject.save_data(data=neighborhoods.to_csv(index=False),file_name='neighborhood_new_york_geospatial_data.csv',overwrite=True)"
        }, 
        {
            "source": "<h2>Summary</h2>\n<p>I've prepared CSV file with New York neighborhoods data, for later use, during Coursera Capstone assignment.</p>\n<ul>\n    <li>neighborhood_new_york_geospatial_data.csv - <b>Borough, Neighborhood, Latitude, Longitude</b> for each New York Neighborhood\n</ul>\n<p><b>Note:</b> The <b>neighborhood_new_york_geospatial_data.csv</b> will be used as initial data for New York neighborhoods.</p>", 
            "cell_type": "markdown", 
            "metadata": {}
        }, 
        {
            "execution_count": null, 
            "cell_type": "code", 
            "metadata": {}, 
            "outputs": [], 
            "source": ""
        }
    ], 
    "metadata": {
        "kernelspec": {
            "display_name": "Python 3.5", 
            "name": "python3", 
            "language": "python"
        }, 
        "widgets": {
            "state": {}, 
            "version": "1.1.2"
        }, 
        "language_info": {
            "mimetype": "text/x-python", 
            "nbconvert_exporter": "python", 
            "version": "3.5.5", 
            "name": "python", 
            "file_extension": ".py", 
            "pygments_lexer": "ipython3", 
            "codemirror_mode": {
                "version": 3, 
                "name": "ipython"
            }
        }
    }, 
    "nbformat": 4
}